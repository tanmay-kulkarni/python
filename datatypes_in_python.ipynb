{
  "nbformat": 4,
  "nbformat_minor": 0,
  "metadata": {
    "colab": {
      "name": "datatypes in python.ipynb",
      "version": "0.3.2",
      "provenance": []
    },
    "kernelspec": {
      "name": "python3",
      "display_name": "Python 3"
    }
  },
  "cells": [
    {
      "metadata": {
        "id": "E_7UqIee5KQB",
        "colab_type": "text"
      },
      "cell_type": "markdown",
      "source": [
        "Keywords in Python"
      ]
    },
    {
      "metadata": {
        "id": "tqc2MBXwqIfE",
        "colab_type": "code",
        "colab": {
          "base_uri": "https://localhost:8080/",
          "height": 56
        },
        "outputId": "071550e3-d8b5-4371-9210-c67f909297d5"
      },
      "cell_type": "code",
      "source": [
        "import keyword\n",
        "print(keyword.kwlist)"
      ],
      "execution_count": 5,
      "outputs": [
        {
          "output_type": "stream",
          "text": [
            "['False', 'None', 'True', 'and', 'as', 'assert', 'break', 'class', 'continue', 'def', 'del', 'elif', 'else', 'except', 'finally', 'for', 'from', 'global', 'if', 'import', 'in', 'is', 'lambda', 'nonlocal', 'not', 'or', 'pass', 'raise', 'return', 'try', 'while', 'with', 'yield']\n"
          ],
          "name": "stdout"
        }
      ]
    },
    {
      "metadata": {
        "id": "exy-O9ctqnxl",
        "colab_type": "code",
        "colab": {
          "base_uri": "https://localhost:8080/",
          "height": 36
        },
        "outputId": "23da6d80-13a6-43dd-ca55-bcffff2b2178"
      },
      "cell_type": "code",
      "source": [
        "x=1\n",
        "# This prints the memory location of where the variable x is stored\n",
        "print(id(x))"
      ],
      "execution_count": 8,
      "outputs": [
        {
          "output_type": "stream",
          "text": [
            "10935488\n"
          ],
          "name": "stdout"
        }
      ]
    },
    {
      "metadata": {
        "id": "FhVX7uEIq0XX",
        "colab_type": "code",
        "colab": {
          "base_uri": "https://localhost:8080/",
          "height": 36
        },
        "outputId": "a55ebd12-e6e6-45fc-959a-65a2915506d3"
      },
      "cell_type": "code",
      "source": [
        "y=1\n",
        "# The address of y will be the same as the address of x, because that's Python's memory management policy\n",
        "print(id(y))"
      ],
      "execution_count": 9,
      "outputs": [
        {
          "output_type": "stream",
          "text": [
            "10935488\n"
          ],
          "name": "stdout"
        }
      ]
    },
    {
      "metadata": {
        "id": "FIbeZMPkrWMk",
        "colab_type": "code",
        "colab": {
          "base_uri": "https://localhost:8080/",
          "height": 36
        },
        "outputId": "3b227e40-b8ae-4902-98a1-0da84af11a1c"
      },
      "cell_type": "code",
      "source": [
        "# Now, if I change the value of y, obviously, its address will change\n",
        "y=2\n",
        "print(id(y))"
      ],
      "execution_count": 10,
      "outputs": [
        {
          "output_type": "stream",
          "text": [
            "10935520\n"
          ],
          "name": "stdout"
        }
      ]
    },
    {
      "metadata": {
        "id": "ODCt11anr7oC",
        "colab_type": "text"
      },
      "cell_type": "markdown",
      "source": [
        "Everything in python is an object."
      ]
    },
    {
      "metadata": {
        "id": "AJlnpU5Vrtiq",
        "colab_type": "code",
        "colab": {
          "base_uri": "https://localhost:8080/",
          "height": 36
        },
        "outputId": "93bf77e6-e077-4bf7-b67a-35e6519039e4"
      },
      "cell_type": "code",
      "source": [
        "a = 100\n",
        "print('The type of variable a is: {}'.format(type(a)))"
      ],
      "execution_count": 11,
      "outputs": [
        {
          "output_type": "stream",
          "text": [
            "The type of variable a is: <class 'int'>\n"
          ],
          "name": "stdout"
        }
      ]
    },
    {
      "metadata": {
        "id": "yDhimnc6sLEC",
        "colab_type": "code",
        "colab": {
          "base_uri": "https://localhost:8080/",
          "height": 36
        },
        "outputId": "4eb0c638-fb19-409e-b219-b6133173e914"
      },
      "cell_type": "code",
      "source": [
        "b = 37.5\n",
        "print('The type of variable b is: {}'.format(type(b)))"
      ],
      "execution_count": 12,
      "outputs": [
        {
          "output_type": "stream",
          "text": [
            "The type of variable b is: <class 'float'>\n"
          ],
          "name": "stdout"
        }
      ]
    },
    {
      "metadata": {
        "id": "o-fjowM_sdt-",
        "colab_type": "code",
        "colab": {
          "base_uri": "https://localhost:8080/",
          "height": 36
        },
        "outputId": "48822e92-4da6-4b36-c1bd-201972eb3e4a"
      },
      "cell_type": "code",
      "source": [
        "c = 1 + 3j\n",
        "print('The type of variable c is: {}'.format(type(c)))"
      ],
      "execution_count": 13,
      "outputs": [
        {
          "output_type": "stream",
          "text": [
            "The type of variable c is: <class 'complex'>\n"
          ],
          "name": "stdout"
        }
      ]
    },
    {
      "metadata": {
        "id": "P8waGEtnsqS4",
        "colab_type": "code",
        "colab": {
          "base_uri": "https://localhost:8080/",
          "height": 36
        },
        "outputId": "33b36c88-3349-40fb-c8ad-566c18ce4f66"
      },
      "cell_type": "code",
      "source": [
        "d = True\n",
        "print('The type of variable d is: {}'.format(type(d)))"
      ],
      "execution_count": 14,
      "outputs": [
        {
          "output_type": "stream",
          "text": [
            "The type of variable d is: <class 'bool'>\n"
          ],
          "name": "stdout"
        }
      ]
    },
    {
      "metadata": {
        "id": "n7qsKYUJs8QZ",
        "colab_type": "code",
        "colab": {
          "base_uri": "https://localhost:8080/",
          "height": 36
        },
        "outputId": "563f1f99-3f5f-4a46-f1a6-7d8196fd6a0a"
      },
      "cell_type": "code",
      "source": [
        "e = \"I'm learning Machine Learning.\"\n",
        "print('The type of variable e is: {}'.format(type(e)))"
      ],
      "execution_count": 16,
      "outputs": [
        {
          "output_type": "stream",
          "text": [
            "The type of variable e is: <class 'str'>\n"
          ],
          "name": "stdout"
        }
      ]
    },
    {
      "metadata": {
        "id": "obWifo8UtITU",
        "colab_type": "code",
        "colab": {
          "base_uri": "https://localhost:8080/",
          "height": 36
        },
        "outputId": "2d5e6cea-0ce7-43f2-9f8f-cee003f04235"
      },
      "cell_type": "code",
      "source": [
        "# Set is an unordered collction of objects\n",
        "f = {1,2,3,4,4,4,5}\n",
        "print('The type of variable f is: {}'.format(type(f)))\n"
      ],
      "execution_count": 19,
      "outputs": [
        {
          "output_type": "stream",
          "text": [
            "The type of variable f is: <class 'set'>\n"
          ],
          "name": "stdout"
        }
      ]
    },
    {
      "metadata": {
        "id": "27ZHlSlf6twd",
        "colab_type": "text"
      },
      "cell_type": "markdown",
      "source": [
        "Output formatting"
      ]
    },
    {
      "metadata": {
        "id": "C0G0Sy566vb7",
        "colab_type": "code",
        "colab": {
          "base_uri": "https://localhost:8080/",
          "height": 36
        },
        "outputId": "b2725575-b00f-4978-b344-47186afd6987"
      },
      "cell_type": "code",
      "source": [
        "print('{} is how {} can format strings in Python'.format('this','you'))"
      ],
      "execution_count": 21,
      "outputs": [
        {
          "output_type": "stream",
          "text": [
            "this is how you can format strings in Python\n"
          ],
          "name": "stdout"
        }
      ]
    },
    {
      "metadata": {
        "id": "2D3zSyPPArKs",
        "colab_type": "code",
        "colab": {
          "base_uri": "https://localhost:8080/",
          "height": 36
        },
        "outputId": "7bc41e04-a8b8-489e-aa6d-022267c3ab4d"
      },
      "cell_type": "code",
      "source": [
        "# Changing the order\n",
        "\n",
        "print('This is {1} you can change the {0} of the parameters '.format('order','how'))"
      ],
      "execution_count": 23,
      "outputs": [
        {
          "output_type": "stream",
          "text": [
            "This is how you can change the order of the parameters \n"
          ],
          "name": "stdout"
        }
      ]
    },
    {
      "metadata": {
        "id": "3RmNB5DTBJJ7",
        "colab_type": "code",
        "colab": {
          "base_uri": "https://localhost:8080/",
          "height": 36
        },
        "outputId": "9ee013c9-8170-4464-9dbc-c35f1bb2a542"
      },
      "cell_type": "code",
      "source": [
        "# Another way\n",
        "\n",
        "print('Hello {name}. Good {greeting} to you.'.format(name='Tanmay', greeting = 'Evening'))"
      ],
      "execution_count": 26,
      "outputs": [
        {
          "output_type": "stream",
          "text": [
            "Hello Tanmay. Good Evening to you.\n"
          ],
          "name": "stdout"
        }
      ]
    },
    {
      "metadata": {
        "id": "Qhb6bgFsBuxT",
        "colab_type": "code",
        "colab": {
          "base_uri": "https://localhost:8080/",
          "height": 36
        },
        "outputId": "4a426768-0be5-43e2-f081-c477aecf6a6f"
      },
      "cell_type": "code",
      "source": [
        "# It is also possible to combine different ways.\n",
        "\n",
        "print('Hello {0}, I\\'m very well. Thank you. Is you name {name}?'.format('Human', name='Tanmay'))"
      ],
      "execution_count": 28,
      "outputs": [
        {
          "output_type": "stream",
          "text": [
            "Hello Human, I'm very well. Thank you. Is you name Tanmay?\n"
          ],
          "name": "stdout"
        }
      ]
    }
  ]
}